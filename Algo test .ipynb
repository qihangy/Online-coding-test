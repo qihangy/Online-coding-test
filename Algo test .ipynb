{
 "cells": [
  {
   "cell_type": "markdown",
   "metadata": {},
   "source": [
    "Task: Please write function(s) to solve the following: \n",
    "        1. Compute the geometric mean of percent change in daily closing price for each stock. \n",
    "        2. Use the geometric mean from step 1 to compute the weighted geometric mean, with 100% weight\n",
    "            on the latest day and 1% less weight as each day passed."
   ]
  },
  {
   "cell_type": "code",
   "execution_count": 1,
   "metadata": {},
   "outputs": [],
   "source": [
    "import pandas as pd\n",
    "import numpy as np\n",
    "from scipy.stats import gmean\n",
    "\n",
    "df = pd.read_excel('/Users/guapofish/Desktop/stockdata.xlsx')"
   ]
  },
  {
   "cell_type": "code",
   "execution_count": 2,
   "metadata": {},
   "outputs": [],
   "source": [
    "df['MSFT_pct_change'] = df['MSFT'].pct_change() \n",
    "df['AAPL_pct_change'] = df['AAPL'].pct_change() \n",
    "df['AMZN_pct_change'] = df['AMZN'].pct_change() "
   ]
  },
  {
   "cell_type": "code",
   "execution_count": 3,
   "metadata": {},
   "outputs": [],
   "source": [
    "df = df.replace(np.nan, 0)\n",
    "df_pct_change = df[df.columns[3:]]"
   ]
  },
  {
   "cell_type": "code",
   "execution_count": 4,
   "metadata": {},
   "outputs": [],
   "source": [
    "def geo_mean(col_name):\n",
    "    l = list(df[col_name])\n",
    "    cum_product = 1\n",
    "    for i in range(len(l)):\n",
    "        cum_product = cum_product * (l[-i-1]+1)\n",
    "    \n",
    "    return (cum_product)**(1/len(l))-1"
   ]
  },
  {
   "cell_type": "code",
   "execution_count": 5,
   "metadata": {},
   "outputs": [
    {
     "data": {
      "text/plain": [
       "[-0.0007384333043647384, 0.00035829846402801735, -0.0018884465161127517]"
      ]
     },
     "execution_count": 5,
     "metadata": {},
     "output_type": "execute_result"
    }
   ],
   "source": [
    "arr_geo = [geo_mean('MSFT_pct_change'),geo_mean('AAPL_pct_change'),\n",
    "                geo_mean('AMZN_pct_change')]\n",
    "arr_geo"
   ]
  },
  {
   "cell_type": "code",
   "execution_count": 6,
   "metadata": {},
   "outputs": [
    {
     "data": {
      "text/plain": [
       "array([-0.00073843,  0.0003583 , -0.00188845])"
      ]
     },
     "execution_count": 6,
     "metadata": {},
     "output_type": "execute_result"
    }
   ],
   "source": [
    "#Validate output of the scipy package and my function to make sure they are the same\n",
    "arr_package = gmean(1+df_pct_change , axis = 0) - 1\n",
    "arr_package"
   ]
  },
  {
   "cell_type": "code",
   "execution_count": 7,
   "metadata": {},
   "outputs": [
    {
     "name": "stdout",
     "output_type": "stream",
     "text": [
      "The geometric mean of percent change in daily closing price for MSFT is -0.07384333043647384%\n",
      "The geometric mean of percent change in daily closing price for AAPL is 0.035829846402801735%\n",
      "The geometric mean of percent change in daily closing price for AMZN is -0.18884465161127517%\n"
     ]
    }
   ],
   "source": [
    "print(\"The geometric mean of percent change in daily closing price for MSFT is {}%\".format(arr_geo[0]*100))\n",
    "print(\"The geometric mean of percent change in daily closing price for AAPL is {}%\".format(arr_geo[1]*100))\n",
    "print(\"The geometric mean of percent change in daily closing price for AMZN is {}%\".format(arr_geo[2]*100))"
   ]
  },
  {
   "cell_type": "code",
   "execution_count": 8,
   "metadata": {},
   "outputs": [],
   "source": [
    "def weight_geo_mean(col_name):\n",
    "    weight_decrease = 0.01\n",
    "    l = list(df[col_name])\n",
    "    cum_product = 1\n",
    "    cum_weight = 0\n",
    "    for i in range(min(len(l),100)):\n",
    "        cum_weight = cum_weight + (1-i*weight_decrease)\n",
    "        cum_product = cum_product * (l[-i-1]+1)**(1-i*weight_decrease)\n",
    "    \n",
    "    return (cum_product)**(1/cum_weight)-1\n",
    "   "
   ]
  },
  {
   "cell_type": "code",
   "execution_count": 9,
   "metadata": {},
   "outputs": [],
   "source": [
    "arr_weighted = [weight_geo_mean('MSFT_pct_change'),weight_geo_mean('AAPL_pct_change'),\n",
    "                weight_geo_mean('AMZN_pct_change')]"
   ]
  },
  {
   "cell_type": "code",
   "execution_count": 10,
   "metadata": {},
   "outputs": [
    {
     "name": "stdout",
     "output_type": "stream",
     "text": [
      "The weighted geometric mean of percent change in daily closing price for MSFT is -0.08119468285412434%\n",
      "The weighted geometric mean of percent change in daily closing price for AAPL is 0.041867156878394596%\n",
      "The weighted geometric mean of percent change in daily closing price for AMZN is -0.193664126279669%\n"
     ]
    }
   ],
   "source": [
    "print(\"The weighted geometric mean of percent change in daily closing price for MSFT is {}%\".format(arr_weighted[0]*100))\n",
    "print(\"The weighted geometric mean of percent change in daily closing price for AAPL is {}%\".format(arr_weighted[1]*100))\n",
    "print(\"The weighted geometric mean of percent change in daily closing price for AMZN is {}%\".format(arr_weighted[2]*100))"
   ]
  },
  {
   "cell_type": "code",
   "execution_count": null,
   "metadata": {},
   "outputs": [],
   "source": []
  }
 ],
 "metadata": {
  "kernelspec": {
   "display_name": "Python 3",
   "language": "python",
   "name": "python3"
  },
  "language_info": {
   "codemirror_mode": {
    "name": "ipython",
    "version": 3
   },
   "file_extension": ".py",
   "mimetype": "text/x-python",
   "name": "python",
   "nbconvert_exporter": "python",
   "pygments_lexer": "ipython3",
   "version": "3.7.6"
  }
 },
 "nbformat": 4,
 "nbformat_minor": 4
}
