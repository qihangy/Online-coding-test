{
 "cells": [
  {
   "cell_type": "markdown",
   "metadata": {},
   "source": [
    "# Cublist/Point72 HackerRank Test "
   ]
  },
  {
   "cell_type": "markdown",
   "metadata": {},
   "source": [
    "# Question 1: Find if the serial Number is in a right format"
   ]
  },
  {
   "cell_type": "code",
   "execution_count": 1,
   "metadata": {},
   "outputs": [
    {
     "name": "stdout",
     "output_type": "stream",
     "text": [
      "valid\n"
     ]
    }
   ],
   "source": [
    "serialNumber = 'AQI1996100P'\n",
    "\n",
    "def countCounterfeit(serialNumber):\n",
    "    l = serialNumber\n",
    "    money = [10,20,50,100,200,500,1000]\n",
    "    Error = [] \n",
    "    \n",
    "    if len(l) >12 or len(l) <10: \n",
    "        print('error1')\n",
    "        Error.append('error1')\n",
    "\n",
    "    flag1 = 0\n",
    "    for item in l[:3]:\n",
    "        if item.isupper():\n",
    "            flag1 = flag1 + 1\n",
    "    if flag1 != 3:\n",
    "        print('error2')\n",
    "        Error.append('error2')\n",
    "        \n",
    "    flag2 = 0\n",
    "    if int(l[3:7]) >= 1990 and int(l[3:7]) <= 2019:\n",
    "        flag2 = flag2 + 1\n",
    "    if flag2 != 1:\n",
    "        print('error3')\n",
    "        Error.append('error3') \n",
    "\n",
    "    flag3 = 0\n",
    "    for m in money:    \n",
    "        if m == int(l[7:-1]):\n",
    "            flag3 = flag3 + 1\n",
    "    if flag3 == 0:\n",
    "        print('error4')\n",
    "        Error.append('error4') \n",
    "\n",
    "    if l[-1].isupper() == False:\n",
    "        print('error5')\n",
    "        Error.append('error5')\n",
    "        \n",
    "    return Error\n",
    "\n",
    "#countCounterfeit(serialNumber)\n",
    "if len(countCounterfeit(serialNumber)) == 0:\n",
    "    print('valid')      \n",
    "\n",
    "        "
   ]
  },
  {
   "cell_type": "markdown",
   "metadata": {},
   "source": [
    "# Question 2: Find the a list of string and output the aeiou alphebet "
   ]
  },
  {
   "cell_type": "markdown",
   "metadata": {},
   "source": [
    "-- without using re package"
   ]
  },
  {
   "cell_type": "code",
   "execution_count": 2,
   "metadata": {},
   "outputs": [
    {
     "data": {
      "text/plain": [
       "['aaaaa', 'aeiuo', 'aaaae']"
      ]
     },
     "execution_count": 2,
     "metadata": {},
     "output_type": "execute_result"
    }
   ],
   "source": [
    "s = 'earthaaaaapaeiuoroblaaaaemfjbsvaa'\n",
    "l = 'aeiou'\n",
    "\n",
    "def calc_max_aeiou(s,l):\n",
    "    \n",
    "    total = []\n",
    "    Max_len = 0\n",
    "    \n",
    "    for i in range(len(s)):\n",
    "      \n",
    "        if s[i] in l:\n",
    "            Max_len = Max_len + 1 \n",
    "            total.append([Max_len,i])\n",
    "        else:\n",
    "            Max_len = 0\n",
    "    \n",
    "    maxl = []\n",
    "    \n",
    "    for i in range(len(total)):\n",
    "        if total[i][0] == max(total)[0]:\n",
    "            maxl.append(total[i])\n",
    "    \n",
    "    #print(maxl)\n",
    "    \n",
    "    return_list = []\n",
    "    \n",
    "    for item in maxl:\n",
    "        start_index = item[0]\n",
    "        end_index = item[1]\n",
    "        return_list.append(''.join(list(s)[end_index-start_index+1:end_index+1]))\n",
    "    \n",
    "    \n",
    "    return return_list\n",
    "\n",
    "calc_max_aeiou(s,l)     "
   ]
  },
  {
   "cell_type": "markdown",
   "metadata": {},
   "source": [
    "-- output the max length of the string"
   ]
  },
  {
   "cell_type": "code",
   "execution_count": 3,
   "metadata": {},
   "outputs": [
    {
     "data": {
      "text/plain": [
       "5"
      ]
     },
     "execution_count": 3,
     "metadata": {},
     "output_type": "execute_result"
    }
   ],
   "source": [
    "s = 'earthaaaaapaeiuoroblaaaaemfjbsvaa'\n",
    "l = 'aeiou'\n",
    "\n",
    "def calc_max_length(s,l):\n",
    "    \n",
    "    total = []\n",
    "    Max_len = 0\n",
    "    \n",
    "    for i in range(len(s)):\n",
    "      \n",
    "        if s[i] in l:\n",
    "            Max_len = Max_len + 1 \n",
    "            total.append([Max_len,i])\n",
    "        else:\n",
    "            Max_len = 0\n",
    "    \n",
    "    return max(total)[0]\n",
    "\n",
    "calc_max_length(s,l)\n",
    "\n"
   ]
  },
  {
   "cell_type": "markdown",
   "metadata": {},
   "source": [
    " -- using the re package"
   ]
  },
  {
   "cell_type": "code",
   "execution_count": 5,
   "metadata": {},
   "outputs": [
    {
     "data": {
      "text/plain": [
       "'aaaaaaaaa'"
      ]
     },
     "execution_count": 5,
     "metadata": {},
     "output_type": "execute_result"
    }
   ],
   "source": [
    "import re\n",
    "s = 'earthproblemfjbsvaaaaaaaaa'\n",
    "aeiou = re.findall('[aeiou]+',s)\n",
    "max(aeiou, key=len)"
   ]
  },
  {
   "cell_type": "markdown",
   "metadata": {},
   "source": [
    "# Question 3: \n",
    "\n",
    "--find the location(index) of the market, where the total distance is the minimum throughout \n",
    "the whole points given <br/> numPeople represents the weight of the point, x is the x axis of the point y is the y axis of the point "
   ]
  },
  {
   "cell_type": "code",
   "execution_count": 7,
   "metadata": {},
   "outputs": [
    {
     "name": "stdout",
     "output_type": "stream",
     "text": [
      "The market should be located at (2,4) with the minimum distance of 20\n"
     ]
    }
   ],
   "source": [
    "# Complete the 'minimizeCost' function below.\n",
    "#\n",
    "# The function is expected to return an INTEGER.\n",
    "# The function accepts following parameters:\n",
    "#  1. INTEGER_ARRAY numPeople\n",
    "#  2. INTEGER_ARRAY x\n",
    "#  3. INTEGER_ARRAY y\n",
    "\n",
    "import numpy as np\n",
    "\n",
    "numPeople = [1,1,1]\n",
    "x = [0,4,10]\n",
    "y = [0,2,10]\n",
    "\n",
    "X_max = max(x)\n",
    "Y_max = max(y)\n",
    "X_min = min(x)\n",
    "Y_min = min(y)\n",
    "\n",
    "length_x = X_max - X_min\n",
    "length_y = Y_max - Y_min\n",
    "\n",
    "def minimizeCost(numPeople,x,y):\n",
    "    \n",
    "    def identity(c):\n",
    "\n",
    "        A = np.zeros((length_y+1,length_x+1))      \n",
    "\n",
    "        for i in range(length_y+1): #3\n",
    "            for j in range(length_x+1): #5\n",
    "                A[i,j] = int(np.abs(i-c[0]) + np.abs(j -c[1]))\n",
    "\n",
    "        return A\n",
    "    \n",
    "    M_sum = np.zeros((length_y+1,length_x+1)) \n",
    "    \n",
    "    for k in range(len(x)):\n",
    "\n",
    "        c = [y[k],x[k]]\n",
    "        M_sum = M_sum + numPeople[k]*identity(c)\n",
    "\n",
    "        result = np.where(M_sum == np.amin(M_sum))      \n",
    "        \n",
    "        minimum_distance = int(np.amin(M_sum))\n",
    "    \n",
    "    try:\n",
    "        print(\"The market should be located at (\" +str(int(result[0]))+ ','\n",
    "                 + str(int(result[1])) + \") with the minimum distance of \" + str(minimum_distance))\n",
    "        \n",
    "    except:\n",
    "        \n",
    "        print(\"Two or more points have a same distance \" + str(minimum_distance))\n",
    "        \n",
    "    \n",
    "minimizeCost(numPeople,x,y) "
   ]
  },
  {
   "cell_type": "code",
   "execution_count": null,
   "metadata": {},
   "outputs": [],
   "source": []
  }
 ],
 "metadata": {
  "kernelspec": {
   "display_name": "Python 3",
   "language": "python",
   "name": "python3"
  },
  "language_info": {
   "codemirror_mode": {
    "name": "ipython",
    "version": 3
   },
   "file_extension": ".py",
   "mimetype": "text/x-python",
   "name": "python",
   "nbconvert_exporter": "python",
   "pygments_lexer": "ipython3",
   "version": "3.7.1"
  }
 },
 "nbformat": 4,
 "nbformat_minor": 2
}
