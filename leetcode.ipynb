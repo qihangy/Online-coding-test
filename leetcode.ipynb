{
 "cells": [
  {
   "cell_type": "markdown",
   "metadata": {},
   "source": [
    "# Day1"
   ]
  },
  {
   "cell_type": "code",
   "execution_count": 40,
   "metadata": {},
   "outputs": [
    {
     "data": {
      "text/plain": [
       "[[0, 1]]"
      ]
     },
     "execution_count": 40,
     "metadata": {},
     "output_type": "execute_result"
    }
   ],
   "source": [
    "def add(nums, target):\n",
    "    a = []\n",
    "    for i in range(len(nums)):\n",
    "        for j in range(i,len(nums)):\n",
    "            if nums[i] + nums[j] == target:\n",
    "                a.append([i,j])\n",
    "    return a \n",
    "\n",
    "nums = [2, 7, 11, 15]\n",
    "target = 9\n",
    "\n",
    "add(nums, target)"
   ]
  },
  {
   "cell_type": "code",
   "execution_count": 45,
   "metadata": {},
   "outputs": [
    {
     "data": {
      "text/plain": [
       "[0, 0]"
      ]
     },
     "execution_count": 45,
     "metadata": {},
     "output_type": "execute_result"
    }
   ],
   "source": [
    "# exactly one solution\n",
    "def add(nums, target):\n",
    "    for i in range(len(nums)):\n",
    "        for j in range(i,len(nums)):\n",
    "            if (nums[i] + nums[j] == target) & (i!= j) :\n",
    "                return [i,j]\n",
    "\n",
    "\n",
    "nums = [5, 6, 11, 15]\n",
    "target = 10\n",
    "\n",
    "add(nums, target)"
   ]
  },
  {
   "cell_type": "code",
   "execution_count": 65,
   "metadata": {},
   "outputs": [
    {
     "data": {
      "text/plain": [
       "5531"
      ]
     },
     "execution_count": 65,
     "metadata": {},
     "output_type": "execute_result"
    }
   ],
   "source": [
    "def reverse(x): \n",
    "    if x > 0:  # handle positive numbers  \n",
    "        a =  int(str(x)[::-1])  \n",
    "    if x <=0:  # handle negative numbers  \n",
    "        a = -1 * int(str(x*-1)[::-1])  \n",
    "    return a\n",
    "\n",
    "reverse(1355)"
   ]
  },
  {
   "cell_type": "code",
   "execution_count": 73,
   "metadata": {},
   "outputs": [
    {
     "name": "stdout",
     "output_type": "stream",
     "text": [
      "true\n"
     ]
    }
   ],
   "source": [
    "def isPalindrome(x):\n",
    "    if x > 0:\n",
    "        if x == int(str(x)[::-1]):\n",
    "            return print('true')\n",
    "        else:\n",
    "            return print('false')\n",
    "    \n",
    "    if x <=0:\n",
    "            return print('false')\n",
    "\n",
    "isPalindrome(121)"
   ]
  },
  {
   "cell_type": "code",
   "execution_count": 130,
   "metadata": {},
   "outputs": [
    {
     "data": {
      "text/plain": [
       "58"
      ]
     },
     "execution_count": 130,
     "metadata": {},
     "output_type": "execute_result"
    }
   ],
   "source": [
    "'''\n",
    "x = 'VII'\n",
    "rule = {\"M\":1000, \"D\":500, \"C\":100, \"L\":50, \"X\":10, \"V\":5, \"I\":1}\n",
    "rule[x[0]]\n",
    "\n",
    "'''\n",
    "\n",
    "def romanToInt(x):\n",
    "    \n",
    "    rule = {\"M\":1000, \"D\":500, \"C\":100, \"L\":50, \"X\":10, \"V\":5, \"I\":1}\n",
    "    ans = 0\n",
    "    for i in range(len(x)):\n",
    "        if i<len(x)-1 and rule[x[i+1]] > rule[x[i]]:\n",
    "            ans = ans - rule[x[i]]\n",
    "        else:\n",
    "            ans = ans + rule[x[i]]\n",
    "    return ans\n",
    "        \n",
    "romanToInt(\"LVIII\")        \n",
    "    \n",
    "    "
   ]
  },
  {
   "cell_type": "code",
   "execution_count": 200,
   "metadata": {},
   "outputs": [],
   "source": [
    "'''\n",
    "strs =  [\"flower\",\"flow\",\"acd\",\"flight\"] \n",
    "p=\"\"  \n",
    "c=strs[0][0]\n",
    "strs[-2].startswith(p+c)\n",
    "'''\n",
    "\n",
    "def longestCommonPrefix(strs):\n",
    "    p=\"\"\n",
    "    if len(strs) == 0:\n",
    "        return p\n",
    "    strs = sorted(strs)\n",
    "    for i in range(len(min(strs))):\n",
    "        c=strs[0][i]\n",
    "        if strs[-1].startswith(p+c):\n",
    "             p+=c\n",
    "        else:\n",
    "            break\n",
    "    return p\n",
    "\n",
    "strs = [\"flower\",\"flow\",\"flight\"]    \n",
    "\n",
    "        \n",
    "        "
   ]
  },
  {
   "cell_type": "code",
   "execution_count": 201,
   "metadata": {},
   "outputs": [
    {
     "data": {
      "text/plain": [
       "'fl'"
      ]
     },
     "execution_count": 201,
     "metadata": {},
     "output_type": "execute_result"
    }
   ],
   "source": [
    "longestCommonPrefix(strs)"
   ]
  },
  {
   "cell_type": "markdown",
   "metadata": {},
   "source": [
    "# # What Is Dynamic Programming and How To Use It\n",
    "https://www.youtube.com/watch?v=vYquumk4nWw\n"
   ]
  },
  {
   "cell_type": "code",
   "execution_count": 209,
   "metadata": {},
   "outputs": [],
   "source": [
    "from time import time\n",
    "\n",
    "#slowest \n",
    "def fib(n):\n",
    "    if n == 1 or n ==2:\n",
    "        result = 1\n",
    "    else:\n",
    "        result = fib(n-1) + fib(n-2)\n",
    "    return result \n"
   ]
  },
  {
   "cell_type": "code",
   "execution_count": 219,
   "metadata": {},
   "outputs": [
    {
     "name": "stdout",
     "output_type": "stream",
     "text": [
      "the final number of fib sequence is: 102334155\n",
      "the cost of time is: 27.43924117088318\n"
     ]
    }
   ],
   "source": [
    "t00 = time()\n",
    "print(\"the final number of fib sequence is:\",fib(40))\n",
    "t01 = time()\n",
    "t1 = t01 - t00\n",
    "print(\"the cost of time is:\", t1)"
   ]
  },
  {
   "cell_type": "code",
   "execution_count": 222,
   "metadata": {},
   "outputs": [],
   "source": [
    "def fib_2(n,memo):\n",
    "    if memo[n] is not None:\n",
    "        return memo[n]\n",
    "    if n == 1 or n ==2:\n",
    "        result = 1\n",
    "    else:\n",
    "        result = fib_2(n-1,memo) + fib_2(n-2,memo)\n",
    "    memo[n] = result \n",
    "    return result \n",
    " \n",
    "def fib_memo(n):\n",
    "    memo = [None]*(n+1)\n",
    "    return fib_2(n,memo)"
   ]
  },
  {
   "cell_type": "code",
   "execution_count": 249,
   "metadata": {},
   "outputs": [
    {
     "name": "stdout",
     "output_type": "stream",
     "text": [
      "the final number of fib sequence is: 43466557686937456435688527675040625802564660517371780402481729089536555417949051890403879840079255169295922593080322634775209689623239873322471161642996440906533187938298969649928516003704476137795166849228875\n",
      "the cost of time is: 0.0009517669677734375\n"
     ]
    }
   ],
   "source": [
    "t10 = time()\n",
    "print(\"the final number of fib sequence is:\",fib_memo(1000))\n",
    "t11 = time()\n",
    "t2 = t11 - t10\n",
    "print(\"the cost of time is:\", t2)"
   ]
  },
  {
   "cell_type": "code",
   "execution_count": 228,
   "metadata": {},
   "outputs": [],
   "source": [
    "def fib_bottom_up(n):\n",
    "    if n == 1 or n ==2:\n",
    "        result = 1\n",
    "    bottom_up = [None]*(n+1)\n",
    "    bottom_up[1] = 1 \n",
    "    bottom_up[2] = 1\n",
    "    for i in range(3,n+1):\n",
    "        bottom_up[i] = bottom_up[i-1] + bottom_up[i-2]\n",
    "    return bottom_up[n]             "
   ]
  },
  {
   "cell_type": "code",
   "execution_count": 248,
   "metadata": {},
   "outputs": [
    {
     "name": "stdout",
     "output_type": "stream",
     "text": [
      "the final number of fib sequence is: 43466557686937456435688527675040625802564660517371780402481729089536555417949051890403879840079255169295922593080322634775209689623239873322471161642996440906533187938298969649928516003704476137795166849228875\n",
      "the cost of time is: 0.0008158683776855469\n"
     ]
    }
   ],
   "source": [
    "t20 = time()\n",
    "print(\"the final number of fib sequence is:\",fib_bottom_up(1000))\n",
    "t21 = time()\n",
    "t3 = t21 - t20\n",
    "print(\"the cost of time is:\", t3)\n"
   ]
  },
  {
   "cell_type": "code",
   "execution_count": null,
   "metadata": {},
   "outputs": [],
   "source": []
  },
  {
   "cell_type": "markdown",
   "metadata": {},
   "source": [
    "# Day2"
   ]
  },
  {
   "cell_type": "code",
   "execution_count": 378,
   "metadata": {},
   "outputs": [
    {
     "data": {
      "text/plain": [
       "True"
      ]
     },
     "execution_count": 378,
     "metadata": {},
     "output_type": "execute_result"
    }
   ],
   "source": [
    "x = '[]()'\n",
    "(str(x)[2:4][::-1])[0] == str(x)[2:4][1]\n"
   ]
  },
  {
   "cell_type": "code",
   "execution_count": 301,
   "metadata": {},
   "outputs": [
    {
     "data": {
      "text/plain": [
       "True"
      ]
     },
     "execution_count": 301,
     "metadata": {},
     "output_type": "execute_result"
    }
   ],
   "source": [
    "i = 0 \n",
    "str(x[2*i:2*i+2])[::-1][0] == str(x)[2*i:2*i+2][1]"
   ]
  },
  {
   "cell_type": "code",
   "execution_count": 396,
   "metadata": {},
   "outputs": [
    {
     "data": {
      "text/plain": [
       "False"
      ]
     },
     "execution_count": 396,
     "metadata": {},
     "output_type": "execute_result"
    }
   ],
   "source": [
    "def isValid2(x):    \n",
    "    true_time = 0    \n",
    "    n = int((len(x)/2))\n",
    "    for i in range(n-1):\n",
    "        if str(x[(2*i):2*i+2])[::-1][0] == str(x)[2*i:2*i+2][1]:         \n",
    "            true_time += 1\n",
    "        else:\n",
    "            true_time += 0    \n",
    "    if true_time == n:\n",
    "        return True \n",
    "    else:\n",
    "        return False\n",
    "    \n",
    "x = '{*()'\n",
    "isValid2(x)        \n",
    "            \n",
    "\n",
    "    \n"
   ]
  },
  {
   "cell_type": "code",
   "execution_count": 397,
   "metadata": {},
   "outputs": [
    {
     "data": {
      "text/plain": [
       "True"
      ]
     },
     "execution_count": 397,
     "metadata": {},
     "output_type": "execute_result"
    }
   ],
   "source": [
    "x = '{}()'\n",
    "str(x[0:2])[::-1][0] == str(x)[0:2][1]"
   ]
  },
  {
   "cell_type": "code",
   "execution_count": 471,
   "metadata": {},
   "outputs": [
    {
     "data": {
      "text/plain": [
       "False"
      ]
     },
     "execution_count": 471,
     "metadata": {},
     "output_type": "execute_result"
    }
   ],
   "source": [
    "def isValid(s):    \n",
    "    seen = []   \n",
    "    closed = [\")\", \"}\", \"]\"]   \n",
    "    brackets = {\"{\": \"}\",\"(\": \")\",\"[\": \"]\"}\n",
    "\n",
    "    for ch in s: \n",
    "        \n",
    "        if ch in brackets:\n",
    "            seen.append(ch)\n",
    "            \n",
    "        if ch in closed:\n",
    "            if seen:\n",
    "                top = seen.pop()\n",
    "                \n",
    "                if ch != brackets[top]:\n",
    "                    # ) != ]\n",
    "                    return False\n",
    "            else:\n",
    "                return False\n",
    "    \n",
    "    return len(seen) == 0\n",
    "\n",
    "x = '{{}())'\n",
    "isValid(x)\n",
    "\n",
    "\n"
   ]
  },
  {
   "cell_type": "code",
   "execution_count": 472,
   "metadata": {},
   "outputs": [
    {
     "data": {
      "text/plain": [
       "['{}(*']"
      ]
     },
     "execution_count": 472,
     "metadata": {},
     "output_type": "execute_result"
    }
   ],
   "source": [
    "seen = ['{}(*','dsa'] \n",
    "seen.pop()\n",
    "seen\n"
   ]
  },
  {
   "cell_type": "code",
   "execution_count": 473,
   "metadata": {},
   "outputs": [
    {
     "data": {
      "text/plain": [
       "'1->1->2->3->4->4->5'"
      ]
     },
     "execution_count": 473,
     "metadata": {},
     "output_type": "execute_result"
    }
   ],
   "source": [
    "def mergeTwoLists(l1,l2):\n",
    "    \n",
    "    l1_new = []\n",
    "    n1 = int((len(l1)-1)/3)\n",
    "    for i in range(n1+1):\n",
    "        l1_new.append(l1[3*i])\n",
    "    \n",
    "    l2_new = []\n",
    "    n2 = int((len(l2)-1)/3)\n",
    "    for i in range(n2+1):\n",
    "        l2_new.append(l2[3*i])\n",
    "        \n",
    "    l1_new = [int(i) for i in l1_new] \n",
    "    l2_new = [int(i) for i in l2_new] \n",
    "    l_new = sorted(l1_new + l2_new)\n",
    "    \n",
    "    l_final = []\n",
    "    for i in range(len(l_new)):\n",
    "        l_final.append(str(l_new[i]) + str('->'))\n",
    "    \n",
    "    return ''.join(l_final)[:-2]\n",
    "\n",
    "l1 = '1->2->4'\n",
    "l2 = '1->3->4->5'\n",
    "mergeTwoLists(l1,l2)\n"
   ]
  },
  {
   "cell_type": "code",
   "execution_count": 491,
   "metadata": {},
   "outputs": [
    {
     "data": {
      "text/plain": [
       "6"
      ]
     },
     "execution_count": 491,
     "metadata": {},
     "output_type": "execute_result"
    }
   ],
   "source": [
    "def removeDuplicates(List):\n",
    "    num = 0\n",
    "    \n",
    "    for i in range(len(List)-1):\n",
    "        if List[i+1] - List[i] == 0:\n",
    "            num += 1\n",
    "    return len(List)-num\n",
    "    \n",
    "List = [0,0,1,1,1,2,2,3,3,4,8]\n",
    "removeDuplicates(List)\n",
    "\n",
    "'''\n",
    "nums = [0,0,1,1,1,2,2,3,3,4,8]\n",
    "nums[:] = sorted(set(nums))\n",
    "len(nums[:])\n",
    "\n",
    "\n",
    "\n",
    "'''"
   ]
  },
  {
   "cell_type": "code",
   "execution_count": 503,
   "metadata": {},
   "outputs": [
    {
     "data": {
      "text/plain": [
       "2"
      ]
     },
     "execution_count": 503,
     "metadata": {},
     "output_type": "execute_result"
    }
   ],
   "source": [
    "nums = [0,1,2,2,3,0,4,2]\n",
    "nums[7]"
   ]
  },
  {
   "cell_type": "code",
   "execution_count": 508,
   "metadata": {},
   "outputs": [
    {
     "data": {
      "text/plain": [
       "[0, 1, 3, 0, 4]"
      ]
     },
     "execution_count": 508,
     "metadata": {},
     "output_type": "execute_result"
    }
   ],
   "source": [
    "nums = [0,1,2,2,3,0,4,2]\n",
    "val = 2\n",
    "def removeElement(nums,val):\n",
    "    for i in range(len(nums)):\n",
    "        if val in nums:\n",
    "            nums.remove(val)\n",
    "    return nums\n",
    "\n",
    "removeElement(nums,val)"
   ]
  },
  {
   "cell_type": "code",
   "execution_count": 512,
   "metadata": {},
   "outputs": [
    {
     "data": {
      "text/plain": [
       "2"
      ]
     },
     "execution_count": 512,
     "metadata": {},
     "output_type": "execute_result"
    }
   ],
   "source": [
    "def strStr(haystack, needle):\n",
    "        \"\"\"\n",
    "        :type haystack: str\n",
    "        :type needle: str\n",
    "        :rtype: int\n",
    "        \"\"\"\n",
    "        if needle == '':\n",
    "            return(0)\n",
    "        \n",
    "        if needle in haystack:\n",
    "            needle_length = len(needle)\n",
    "            for i in range(len(haystack)):\n",
    "                if needle == haystack[i:needle_length+i]:\n",
    "                    return(i)\n",
    "        else:\n",
    "            return(-1)\n",
    "\n",
    "haystack = \"hello\" \n",
    "needle = \"ll\"\n",
    "strStr(haystack, needle)"
   ]
  },
  {
   "cell_type": "markdown",
   "metadata": {},
   "source": [
    "# Day3"
   ]
  },
  {
   "cell_type": "code",
   "execution_count": 565,
   "metadata": {},
   "outputs": [
    {
     "name": "stdout",
     "output_type": "stream",
     "text": [
      "4\n"
     ]
    }
   ],
   "source": [
    "def searchInsert(List, target):\n",
    "    if target in List:\n",
    "        print(List.index(target))\n",
    "    \n",
    "    else:\n",
    "        print(sorted(List.append(target)).index(target))\n",
    "    \n",
    "List = [0,1,2,2,3,0,4,2]\n",
    "target = 3   \n",
    "searchInsert(List, target)    \n",
    "    \n"
   ]
  },
  {
   "cell_type": "code",
   "execution_count": 603,
   "metadata": {},
   "outputs": [
    {
     "data": {
      "text/plain": [
       "1"
      ]
     },
     "execution_count": 603,
     "metadata": {},
     "output_type": "execute_result"
    }
   ],
   "source": [
    "def maxSubArray(nums):\n",
    "    if len(nums) == 1:\n",
    "        return nums[0]\n",
    "    else:    \n",
    "        for i in range(len(nums)):\n",
    "            for j in range(i,len(nums)):\n",
    "                a.append(sum(nums[i:j+1]))\n",
    "\n",
    "        return max(a)\n",
    "\n",
    "nums = [-2,-5,1]\n",
    "a = []  \n",
    "maxSubArray(nums)\n"
   ]
  },
  {
   "cell_type": "code",
   "execution_count": 617,
   "metadata": {},
   "outputs": [
    {
     "data": {
      "text/plain": [
       "3"
      ]
     },
     "execution_count": 617,
     "metadata": {},
     "output_type": "execute_result"
    }
   ],
   "source": [
    "def lengthOfLastWord(my_str):\n",
    "    word_list = my_str.rstrip(' ')\n",
    "    word_list = word_list.split()  \n",
    "    return len(word_list[-1])\n",
    "\n",
    "my_str = \"Hello SO user, How are you\"   \n",
    "lengthOfLastWord(my_str)"
   ]
  },
  {
   "cell_type": "code",
   "execution_count": 650,
   "metadata": {},
   "outputs": [],
   "source": [
    "def plusOne(x):\n",
    "    count = 0\n",
    "    \n",
    "    for i in range(len(x)):\n",
    "        count = count + x[i]*10**(len(x)-1-i)\n",
    "    \n",
    "    count = count + 1 \n",
    "\n",
    "    result = []\n",
    "    for i in range(len(str(count))):\n",
    "        result.append(int(str(count)[i]))  \n",
    "    \n",
    "    return result\n",
    "\n",
    "x = [1,2,3,9,9,0,9]\n",
    "plusOne(x)   \n",
    "    "
   ]
  },
  {
   "cell_type": "markdown",
   "metadata": {},
   "source": [
    "# Day4"
   ]
  },
  {
   "cell_type": "code",
   "execution_count": 669,
   "metadata": {},
   "outputs": [
    {
     "data": {
      "text/plain": [
       "'100'"
      ]
     },
     "execution_count": 669,
     "metadata": {},
     "output_type": "execute_result"
    }
   ],
   "source": [
    "def addBinary(a,b):\n",
    "        c = bin(int(a,2) + int(b,2))\n",
    "        return c.replace(\"0b\", \"\")\n",
    "\n",
    "a = '001'\n",
    "b = '011'\n",
    "addBinary(a,b)\n"
   ]
  },
  {
   "cell_type": "code",
   "execution_count": 687,
   "metadata": {},
   "outputs": [
    {
     "data": {
      "text/plain": [
       "89"
      ]
     },
     "execution_count": 687,
     "metadata": {},
     "output_type": "execute_result"
    }
   ],
   "source": [
    "def climbStairs(n):\n",
    "    if n == 1:\n",
    "        return 1\n",
    "    bottom_up = [None]*(n+1)\n",
    "    bottom_up[1] = 1 \n",
    "    bottom_up[2] = 2\n",
    "    for i in range(3,n+1):\n",
    "        bottom_up[i] = bottom_up[i-1] + bottom_up[i-2]\n",
    "    return bottom_up[n] \n",
    "    \n",
    "climbStairs(10)"
   ]
  },
  {
   "cell_type": "markdown",
   "metadata": {},
   "source": [
    "# Day5"
   ]
  },
  {
   "cell_type": "code",
   "execution_count": 712,
   "metadata": {},
   "outputs": [
    {
     "data": {
      "text/plain": [
       "-2"
      ]
     },
     "execution_count": 712,
     "metadata": {},
     "output_type": "execute_result"
    }
   ],
   "source": [
    "def singleNumber(s):\n",
    "    d = {}\n",
    "    for n in nums:\n",
    "        if n in d:\n",
    "            del d[n]\n",
    "        else:\n",
    "            d[n] = 1\n",
    "    return list(d)[0]\n",
    "      \n",
    "                \n",
    "singleNumber(a)               \n",
    "                \n",
    "        \n",
    "        \n",
    "        \n",
    "    "
   ]
  },
  {
   "cell_type": "code",
   "execution_count": 748,
   "metadata": {},
   "outputs": [
    {
     "data": {
      "text/plain": [
       "array([[  1.,   0.,   0.,   0.,   0.,   0.,   0.,   0.,   0.,   0.],\n",
       "       [  1.,   1.,   0.,   0.,   0.,   0.,   0.,   0.,   0.,   0.],\n",
       "       [  1.,   2.,   1.,   0.,   0.,   0.,   0.,   0.,   0.,   0.],\n",
       "       [  1.,   3.,   3.,   1.,   0.,   0.,   0.,   0.,   0.,   0.],\n",
       "       [  1.,   4.,   6.,   4.,   1.,   0.,   0.,   0.,   0.,   0.],\n",
       "       [  1.,   5.,  10.,  10.,   5.,   1.,   0.,   0.,   0.,   0.],\n",
       "       [  1.,   6.,  15.,  20.,  15.,   6.,   1.,   0.,   0.,   0.],\n",
       "       [  1.,   7.,  21.,  35.,  35.,  21.,   7.,   1.,   0.,   0.],\n",
       "       [  1.,   8.,  28.,  56.,  70.,  56.,  28.,   8.,   1.,   0.],\n",
       "       [  1.,   9.,  36.,  84., 126., 126.,  84.,  36.,   9.,   1.]])"
      ]
     },
     "execution_count": 748,
     "metadata": {},
     "output_type": "execute_result"
    }
   ],
   "source": [
    "#118\n",
    "import numpy as np\n",
    "def generate(n):\n",
    "    a = np.zeros((n,n))\n",
    "    for i in range(n):\n",
    "        a[i][0] = 1\n",
    "        a[i][i] = 1\n",
    "        for j in range(1,i):\n",
    "                a[i][j] = a[i-1][j-1] + a[i-1][j]\n",
    "    return a\n",
    "\n",
    "    \n",
    "generate(10)    \n",
    "    \n",
    "    \n"
   ]
  },
  {
   "cell_type": "code",
   "execution_count": 754,
   "metadata": {},
   "outputs": [
    {
     "data": {
      "text/plain": [
       "[1, 10, 45, 120, 210, 252, 210, 120, 45, 10, 1]"
      ]
     },
     "execution_count": 754,
     "metadata": {},
     "output_type": "execute_result"
    }
   ],
   "source": [
    "def generate2(numRows):\n",
    "    res = [[1]]\n",
    "    for i in range(1, numRows + 1):\n",
    "        res += [list(map(lambda x, y: x+y, res[-1] + [0], [0] + res[-1]))]\n",
    "    return res[-1]\n",
    "generate2(10)"
   ]
  },
  {
   "cell_type": "code",
   "execution_count": 778,
   "metadata": {},
   "outputs": [
    {
     "data": {
      "text/plain": [
       "5"
      ]
     },
     "execution_count": 778,
     "metadata": {},
     "output_type": "execute_result"
    }
   ],
   "source": [
    "#120\n",
    "def maxProfit(nums):\n",
    "    a = []\n",
    "    if len(nums) == 1:\n",
    "        return nums[0]\n",
    "    else:    \n",
    "        for i in range(len(nums)):\n",
    "            for j in range(i,len(nums)):\n",
    "                if (nums[j] - nums[i]) > 0:\n",
    "                    a.append(nums[j]-nums[i])\n",
    "    \n",
    "    return max(a)\n",
    "               \n",
    "maxProfit(nums)\n"
   ]
  },
  {
   "cell_type": "code",
   "execution_count": 779,
   "metadata": {},
   "outputs": [
    {
     "data": {
      "text/plain": [
       "5"
      ]
     },
     "execution_count": 779,
     "metadata": {},
     "output_type": "execute_result"
    }
   ],
   "source": [
    "def maxProfit(prices):\n",
    "    \n",
    "    lowest = float('inf'); profit = 0\n",
    "    for price in prices:\n",
    "        profit = max(profit, price-lowest)\n",
    "        lowest = min(price, lowest)\n",
    "    return profit \n",
    "\n",
    "                \n",
    "maxProfit(nums)\n",
    "                           \n",
    "\n",
    "            "
   ]
  },
  {
   "cell_type": "markdown",
   "metadata": {},
   "source": [
    "# Day6"
   ]
  },
  {
   "cell_type": "code",
   "execution_count": 907,
   "metadata": {},
   "outputs": [
    {
     "name": "stdout",
     "output_type": "stream",
     "text": [
      "[1, 4, 6, 78, 3, 2, 5]\n"
     ]
    },
    {
     "data": {
      "text/plain": [
       "80"
      ]
     },
     "execution_count": 907,
     "metadata": {},
     "output_type": "execute_result"
    }
   ],
   "source": [
    "def maxProfit2(prices):\n",
    "    \n",
    "    \n",
    "    maxpro=0\n",
    "    if not prices:\n",
    "        return 0\n",
    "    for i in range(len(prices)-1):\n",
    "        if prices[i]<prices[i+1]:\n",
    "            maxpro+=prices[i+1]-prices[i]\n",
    "    return maxpro\n",
    "\n",
    "nums = [1,4,6,78,3,2,5]\n",
    "print(nums)\n",
    "maxProfit2(nums)"
   ]
  },
  {
   "cell_type": "code",
   "execution_count": 905,
   "metadata": {},
   "outputs": [
    {
     "data": {
      "text/plain": [
       "[3, 2, 72, 3]"
      ]
     },
     "execution_count": 905,
     "metadata": {},
     "output_type": "execute_result"
    }
   ],
   "source": [
    "def Profit3(prices):\n",
    "    \n",
    "    a = []\n",
    "    if not prices:\n",
    "        return 0\n",
    "    for i in range(len(prices)-1):\n",
    "        if prices[i]<prices[i+1]:\n",
    "            a.append(prices[i+1]-prices[i])\n",
    "    \n",
    "    profit_max = []\n",
    "    for i in range(len(a)):\n",
    "        if a[i] > 0:\n",
    "            profit_max.append(a[i])\n",
    "    \n",
    "     \n",
    "    \n",
    "    return profit_max\n",
    "\n",
    "prices = [1,4,6,78,3,2,5]\n",
    "Profit3(prices)"
   ]
  },
  {
   "cell_type": "code",
   "execution_count": 904,
   "metadata": {},
   "outputs": [
    {
     "data": {
      "text/plain": [
       "False"
      ]
     },
     "execution_count": 904,
     "metadata": {},
     "output_type": "execute_result"
    }
   ],
   "source": [
    "def isPalindrome(s):\n",
    "    ignore_chars = ',./<>?;\\':\"[]\\{}|`~!@#$%^&*()-=_+ '\n",
    "    for char in ignore_chars:\n",
    "        if char in s:\n",
    "            s = s.replace(char,'')\n",
    "    return s.lower() == s.lower()[::-1]\n",
    "isPalindrome(s)"
   ]
  },
  {
   "cell_type": "code",
   "execution_count": 902,
   "metadata": {},
   "outputs": [
    {
     "data": {
      "text/plain": [
       "(1, 2)"
      ]
     },
     "execution_count": 902,
     "metadata": {},
     "output_type": "execute_result"
    }
   ],
   "source": [
    "def twoSum(numbers, target):\n",
    "    for i in range(len(numbers)):\n",
    "        a = target-numbers[i]\n",
    "        \n",
    "        if (a) in (numbers):\n",
    "            index1 = i + 1\n",
    "            index2 = numbers.index(target-numbers[i]) + 1\n",
    "            \n",
    "            if numbers[index1-1]==numbers[index2-1]:\n",
    "                return index1, index1 + 1\n",
    "            \n",
    "            if index1 != index2:\n",
    "                return index1, index2 \n",
    "                \n",
    "numbers = [0,0,2,3,3,7,7]\n",
    "target = 0\n",
    "twoSum(numbers, target)\n",
    "\n",
    "            \n",
    "            "
   ]
  },
  {
   "cell_type": "markdown",
   "metadata": {},
   "source": [
    "# Day7"
   ]
  },
  {
   "cell_type": "code",
   "execution_count": 920,
   "metadata": {},
   "outputs": [
    {
     "data": {
      "text/plain": [
       "'ZY'"
      ]
     },
     "execution_count": 920,
     "metadata": {},
     "output_type": "execute_result"
    }
   ],
   "source": [
    "def convertToTitle(n):\n",
    "    abc=\"ABCDEFGHIJKLMNOPQRSTUVWXYZ\"\n",
    "    ans=\"\"\n",
    "    while n>0:\n",
    "        n=n-1\n",
    "        ans=abc[n%26]+ans\n",
    "        n=n//26\n",
    "    return ans\n",
    "\n",
    "convertToTitle(701)"
   ]
  },
  {
   "cell_type": "code",
   "execution_count": 929,
   "metadata": {},
   "outputs": [
    {
     "data": {
      "text/plain": [
       "3"
      ]
     },
     "execution_count": 929,
     "metadata": {},
     "output_type": "execute_result"
    }
   ],
   "source": [
    "def majorityElement(nums):\n",
    "    nums = sorted(nums)\n",
    "    a = []\n",
    "    n = len(nums)\n",
    "    odd = int((n+1)/2)\n",
    "    even = int(n/2)\n",
    "        \n",
    "    if n%2 == 0:\n",
    "        for i in range(even):\n",
    "            if nums[i+even] - nums[i] == 0:\n",
    "                return nums[i] \n",
    "    if n%2 != 0:\n",
    "        for i in range(odd):\n",
    "            if nums[i+even] - nums[i] == 0:\n",
    "                return nums[i] \n",
    "nums = [3,2,3]\n",
    "majorityElement(nums)\n"
   ]
  },
  {
   "cell_type": "code",
   "execution_count": 977,
   "metadata": {},
   "outputs": [
    {
     "data": {
      "text/plain": [
       "703"
      ]
     },
     "execution_count": 977,
     "metadata": {},
     "output_type": "execute_result"
    }
   ],
   "source": [
    "def titleToNumber(s):\n",
    "    abc=\"ABCDEFGHIJKLMNOPQRSTUVWXYZ\"\n",
    "    abc = list(abc)\n",
    "    \n",
    "    if len(s) == 1:\n",
    "        if s in abc:\n",
    "            return abc.index(s)+1\n",
    "    \n",
    "    s = list(s)  \n",
    "    ans = 0\n",
    "    if len(s)!= 1:\n",
    "        for i in range(len(s)):\n",
    "            ans += (abc.index(s[i])+1)*26**(len(s)-i-1)\n",
    "    return ans\n",
    "        \n",
    "    \n",
    "s = 'AAA'\n",
    "titleToNumber(s)\n",
    "\n",
    "    \n",
    "    \n",
    "    \n",
    "    "
   ]
  },
  {
   "cell_type": "code",
   "execution_count": 985,
   "metadata": {},
   "outputs": [],
   "source": [
    "def trailingZeroes(n):\n",
    "    a = len(str(n))\n",
    "    sum = 0\n",
    "    for i in range(a):\n",
    "        sum += (n-(n%(5**(i+1))))/(5**(i+1))\n",
    "    return int(sum)\n"
   ]
  },
  {
   "cell_type": "code",
   "execution_count": 989,
   "metadata": {},
   "outputs": [
    {
     "data": {
      "text/plain": [
       "155"
      ]
     },
     "execution_count": 989,
     "metadata": {},
     "output_type": "execute_result"
    }
   ],
   "source": [
    "trailingZeroes(625)"
   ]
  },
  {
   "cell_type": "code",
   "execution_count": null,
   "metadata": {},
   "outputs": [],
   "source": []
  }
 ],
 "metadata": {
  "kernelspec": {
   "display_name": "Python 3",
   "language": "python",
   "name": "python3"
  },
  "language_info": {
   "codemirror_mode": {
    "name": "ipython",
    "version": 3
   },
   "file_extension": ".py",
   "mimetype": "text/x-python",
   "name": "python",
   "nbconvert_exporter": "python",
   "pygments_lexer": "ipython3",
   "version": "3.7.1"
  }
 },
 "nbformat": 4,
 "nbformat_minor": 2
}
